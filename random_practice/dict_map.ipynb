{
 "cells": [
  {
   "cell_type": "code",
   "execution_count": 4,
   "metadata": {},
   "outputs": [
    {
     "name": "stdout",
     "output_type": "stream",
     "text": [
      "3\n",
      "harry 12299933\n",
      "harry 12299933\n",
      "harry 12299933\n",
      " ####### lines :  []\n"
     ]
    }
   ],
   "source": [
    "import sys \n",
    "\n",
    "# Read input and assemble Phone Book\n",
    "n = int(input())\n",
    "phoneBook = {}\n",
    "for i in range(n):\n",
    "    contact = input().split(' ')\n",
    "    phoneBook[contact[0]] = contact[1]\n",
    "\n",
    "# Process Queries\n",
    "lines = sys.stdin.readlines()\n",
    "print(\" ####### lines : \", lines)\n",
    "for i in lines:\n",
    "    name = i.strip()\n",
    "    if name in phoneBook:\n",
    "        print(name + '=' + str( phoneBook[name] ))\n",
    "    else:\n",
    "        print('Not found')"
   ]
  },
  {
   "cell_type": "code",
   "execution_count": null,
   "metadata": {},
   "outputs": [],
   "source": [
    "\n"
   ]
  }
 ],
 "metadata": {
  "kernelspec": {
   "display_name": "Python 3",
   "language": "python",
   "name": "python3"
  },
  "language_info": {
   "codemirror_mode": {
    "name": "ipython",
    "version": 3
   },
   "file_extension": ".py",
   "mimetype": "text/x-python",
   "name": "python",
   "nbconvert_exporter": "python",
   "pygments_lexer": "ipython3",
   "version": "3.7.1"
  }
 },
 "nbformat": 4,
 "nbformat_minor": 2
}
