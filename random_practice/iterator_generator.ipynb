{
 "cells": [
  {
   "cell_type": "markdown",
   "metadata": {},
   "source": [
    "Iterators are containers for objects so that you can loop over the objects. In other words, you can run the \"for\" loop over the object. There are many iterators in the Python standard library. For example, list is an iterator and you can run a for loop over a list.\n",
    "\n"
   ]
  },
  {
   "cell_type": "code",
   "execution_count": 15,
   "metadata": {},
   "outputs": [],
   "source": [
    "# iterator_example.py\n",
    "\n",
    "import random\n",
    "\n",
    "class CoolEmoticonGenerator(object):\n",
    "    \"\"\"\n",
    "    this should give an iterator with emoticon\n",
    "    \"\"\"\n",
    "    \n",
    "    strings = \"!@#$^*_-=+?/,.:;~\"\n",
    "    grouped_strings = [(\"(\", \")\"), (\"<\", \">\"), (\"[\", \"]\"), (\"{\", \"}\")]\n",
    "    \n",
    "    def create_emoticons(self, grp):\n",
    "        \"\"\"\n",
    "        This will actually create emoticons\n",
    "        \"\"\"\n",
    "        face_string_list = [random.choice(self.strings) for _ in range(3)]\n",
    "        face_strings = \"\".join(face_string_list)\n",
    "        emoticons = [grp[0], face_strings, grp[1]]\n",
    "        emoticons = \"\".join(emoticons)\n",
    "        return emoticons\n",
    "    \n",
    "    def __iter__(self):\n",
    "        \"\"\"\n",
    "        Returns the self object to be accessed by the for loop\n",
    "        \"\"\"\n",
    "        return self\n",
    "    \n",
    "    def __next__(self):\n",
    "        \"\"\"\n",
    "        Returns next emoticon indefinatly \n",
    "        \"\"\"\n",
    "        grp = random.choice(self.grouped_strings)\n",
    "        return self.create_emoticons(grp)\n",
    "    \n",
    "    "
   ]
  },
  {
   "cell_type": "code",
   "execution_count": 20,
   "metadata": {},
   "outputs": [
    {
     "name": "stdout",
     "output_type": "stream",
     "text": [
      "['(~+=)', '<;-?>', '[=$/]', '{**_}', '(^,?)']\n"
     ]
    }
   ],
   "source": [
    "e = CoolEmoticonGenerator()\n",
    "print([next(e) for _ in range(5)])"
   ]
  },
  {
   "cell_type": "markdown",
   "metadata": {},
   "source": [
    "Python Generators :\n",
    "Python generator gives us an easier way to create python iterators. This is done by defining a function but instead of the return statement returning from the function, use the \"yield\" keyword. For example, see how you can get a simple vowel generator below."
   ]
  },
  {
   "cell_type": "code",
   "execution_count": 30,
   "metadata": {},
   "outputs": [],
   "source": [
    "\n",
    "def create_cool_emoticons_generator():\n",
    "    \"\"\"\n",
    "    Using python generator\n",
    "    \"\"\"\n",
    "    while True:\n",
    "        strings = \"!@#$^*_-=+?/,.:;~\"\n",
    "        grouped_strings = [(\"(\", \")\"), (\"<\", \">\"), (\"[\", \"]\"), (\"{\", \"}\")]\n",
    "        grp = random.choice(grouped_strings)\n",
    "        face_string_list = [random.choice(strings) for _ in range(3)]\n",
    "        face_strings = \"\".join(face_string_list)\n",
    "        emoticons = [grp[0], face_strings, grp[1]]\n",
    "        emoticons = \"\".join(emoticons)\n",
    "        yield emoticons"
   ]
  },
  {
   "cell_type": "code",
   "execution_count": 33,
   "metadata": {},
   "outputs": [
    {
     "name": "stdout",
     "output_type": "stream",
     "text": [
      "['<#_?>', '(-,?)', '{?^@}', '(^*!)', '{$!^}']\n"
     ]
    }
   ],
   "source": [
    "ge = create_cool_emoticons_generator()\n",
    "print([next(ge) for _ in range(5)])"
   ]
  },
  {
   "cell_type": "raw",
   "metadata": {},
   "source": []
  }
 ],
 "metadata": {
  "kernelspec": {
   "display_name": "Python 3",
   "language": "python",
   "name": "python3"
  },
  "language_info": {
   "codemirror_mode": {
    "name": "ipython",
    "version": 3
   },
   "file_extension": ".py",
   "mimetype": "text/x-python",
   "name": "python",
   "nbconvert_exporter": "python",
   "pygments_lexer": "ipython3",
   "version": "3.7.1"
  }
 },
 "nbformat": 4,
 "nbformat_minor": 2
}
