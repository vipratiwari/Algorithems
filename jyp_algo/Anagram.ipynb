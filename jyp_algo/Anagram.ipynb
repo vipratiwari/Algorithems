{
 "cells": [
  {
   "cell_type": "code",
   "execution_count": 13,
   "metadata": {},
   "outputs": [],
   "source": [
    "def anagram(str1, str2):\n",
    "    \n",
    "    # Replace space from string\n",
    "    s1 = str1.replace(\" \", \"\")\n",
    "    s2 = str2.replace(\" \", \"\")\n",
    "    \n",
    "    # length check\n",
    "    if len(s1) != len(s2):\n",
    "        return False\n",
    "    \n",
    "    # Create empty dictionary to count letters in string\n",
    "    count = {} \n",
    "    \n",
    "    # Add letters in dictionary of s1\n",
    "    for letter in s1:\n",
    "        if letter in count:\n",
    "            count[letter] += 1\n",
    "        else:\n",
    "            count[letter] = 1\n",
    "            \n",
    "    # Add letters in dictionary of s2\n",
    "    for letter in s2:\n",
    "        if letter in s2:\n",
    "            if letter in count:\n",
    "                count[letter] -= 1\n",
    "            else:\n",
    "                count[letter] = 1\n",
    "                \n",
    "    # check that all counts are 0\n",
    "    for key in count:\n",
    "        if count[key] == 1:\n",
    "            return False\n",
    "    \n",
    "    # otherwise they are anagram\n",
    "    return True\n",
    "                "
   ]
  },
  {
   "cell_type": "code",
   "execution_count": 14,
   "metadata": {},
   "outputs": [
    {
     "data": {
      "text/plain": [
       "True"
      ]
     },
     "execution_count": 14,
     "metadata": {},
     "output_type": "execute_result"
    }
   ],
   "source": [
    "anagram('dog','god')\n"
   ]
  },
  {
   "cell_type": "code",
   "execution_count": 15,
   "metadata": {},
   "outputs": [
    {
     "data": {
      "text/plain": [
       "True"
      ]
     },
     "execution_count": 15,
     "metadata": {},
     "output_type": "execute_result"
    }
   ],
   "source": [
    "anagram('dog','god')"
   ]
  },
  {
   "cell_type": "code",
   "execution_count": 16,
   "metadata": {},
   "outputs": [
    {
     "data": {
      "text/plain": [
       "False"
      ]
     },
     "execution_count": 16,
     "metadata": {},
     "output_type": "execute_result"
    }
   ],
   "source": [
    "anagram('clint eadsstwood','old west action')"
   ]
  },
  {
   "cell_type": "code",
   "execution_count": 18,
   "metadata": {},
   "outputs": [
    {
     "name": "stdout",
     "output_type": "stream",
     "text": [
      " ALL TEST CASES PASSED\n"
     ]
    }
   ],
   "source": [
    "\"\"\"\n",
    "This cell is to test the above solution\n",
    "\"\"\"\n",
    "\n",
    "from nose.tools import assert_equal\n",
    "\n",
    "class AnagramTest(object):\n",
    "\n",
    "    def test(self, solution):\n",
    "        assert_equal(solution('clint eastwood','old west action'), True)\n",
    "        assert_equal(solution(\"dog\", \"god\"), True)\n",
    "        assert_equal(solution('aabbcc','aabbc'), False)\n",
    "        assert_equal(solution('123','1 2'), False)\n",
    "        print(\" ALL TEST CASES PASSED\")\n",
    "    \n",
    "# RUN TESTS\n",
    "ts = AnagramTest()\n",
    "ts.test(anagram)"
   ]
  },
  {
   "cell_type": "code",
   "execution_count": null,
   "metadata": {},
   "outputs": [],
   "source": []
  },
  {
   "cell_type": "code",
   "execution_count": null,
   "metadata": {},
   "outputs": [],
   "source": []
  }
 ],
 "metadata": {
  "kernelspec": {
   "display_name": "Python 3",
   "language": "python",
   "name": "python3"
  },
  "language_info": {
   "codemirror_mode": {
    "name": "ipython",
    "version": 3
   },
   "file_extension": ".py",
   "mimetype": "text/x-python",
   "name": "python",
   "nbconvert_exporter": "python",
   "pygments_lexer": "ipython3",
   "version": "3.7.1"
  }
 },
 "nbformat": 4,
 "nbformat_minor": 2
}
