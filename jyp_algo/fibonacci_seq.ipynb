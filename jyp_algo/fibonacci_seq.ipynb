{
 "cells": [
  {
   "cell_type": "code",
   "execution_count": 49,
   "metadata": {},
   "outputs": [],
   "source": [
    "def fibo_iter(num):\n",
    "\n",
    "    # Variables to handle fibonacci sequence\n",
    "    i, j = 0, 1\n",
    "    \n",
    "    # Iterate through given number of times\n",
    "    for n in range(num):\n",
    "        \n",
    "        # Create Fibonacci sequence \n",
    "        i, j = j, i+j\n",
    "\n",
    "    return i"
   ]
  },
  {
   "cell_type": "code",
   "execution_count": 50,
   "metadata": {},
   "outputs": [
    {
     "data": {
      "text/plain": [
       "55"
      ]
     },
     "execution_count": 50,
     "metadata": {},
     "output_type": "execute_result"
    }
   ],
   "source": [
    "fibo_iter(10)"
   ]
  },
  {
   "cell_type": "code",
   "execution_count": 51,
   "metadata": {},
   "outputs": [],
   "source": [
    "def fibo_rec(num):\n",
    "    \n",
    "    # Base case \n",
    "    if num <= 1:\n",
    "        return num\n",
    "    \n",
    "    # Recursion\n",
    "    else:\n",
    "        prev = num\n",
    "        return fibo_rec(num-1) + fibo_rec(num-2)"
   ]
  },
  {
   "cell_type": "code",
   "execution_count": 52,
   "metadata": {},
   "outputs": [
    {
     "data": {
      "text/plain": [
       "55"
      ]
     },
     "execution_count": 52,
     "metadata": {},
     "output_type": "execute_result"
    }
   ],
   "source": [
    "fibo_rec(10)"
   ]
  },
  {
   "cell_type": "code",
   "execution_count": 75,
   "metadata": {},
   "outputs": [],
   "source": [
    "# Initiate cache\n",
    "n = 12\n",
    "cache = [None] * (n + 1)\n",
    "\n",
    "\n",
    "def fibo_dyn(n):\n",
    "    \n",
    "    # Base case \n",
    "    if n==1 or n==0:\n",
    "        return n\n",
    "    \n",
    "    # check in cache \n",
    "    if cache[n] != None:\n",
    "        return cache[n]\n",
    "    \n",
    "    # keep setting cache\n",
    "    cache[n] = fibo_dyn(n - 1) + fibo_dyn(n - 2)\n",
    "    \n",
    "    return cache[n]"
   ]
  },
  {
   "cell_type": "code",
   "execution_count": 76,
   "metadata": {},
   "outputs": [
    {
     "data": {
      "text/plain": [
       "144"
      ]
     },
     "execution_count": 76,
     "metadata": {},
     "output_type": "execute_result"
    }
   ],
   "source": [
    "fibo_dyn(12)"
   ]
  },
  {
   "cell_type": "code",
   "execution_count": 81,
   "metadata": {},
   "outputs": [
    {
     "name": "stdout",
     "output_type": "stream",
     "text": [
      " ALL TESTS ARE PASSING! \n",
      " ALL TESTS ARE PASSING! \n"
     ]
    }
   ],
   "source": [
    "from nose.tools import assert_equal\n",
    "\n",
    "class TestFibo(object):\n",
    "    \n",
    "    def test(self, solution):\n",
    "        assert_equal(solution(10),55)\n",
    "        assert_equal(solution(1),1)\n",
    "        assert_equal(solution(23),28657)\n",
    "        print(\" ALL TESTS ARE PASSING! \")\n",
    "        \n",
    "ts = TestFibo()\n",
    "# ts.test(fibo_dyn)\n",
    "ts.test(fibo_rec)\n",
    "ts.test(fibo_iter)"
   ]
  },
  {
   "cell_type": "code",
   "execution_count": null,
   "metadata": {},
   "outputs": [],
   "source": []
  },
  {
   "cell_type": "code",
   "execution_count": null,
   "metadata": {},
   "outputs": [],
   "source": []
  }
 ],
 "metadata": {
  "kernelspec": {
   "display_name": "Python 3",
   "language": "python",
   "name": "python3"
  },
  "language_info": {
   "codemirror_mode": {
    "name": "ipython",
    "version": 3
   },
   "file_extension": ".py",
   "mimetype": "text/x-python",
   "name": "python",
   "nbconvert_exporter": "python",
   "pygments_lexer": "ipython3",
   "version": "3.7.1"
  }
 },
 "nbformat": 4,
 "nbformat_minor": 2
}
