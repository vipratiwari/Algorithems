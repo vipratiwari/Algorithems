{
 "cells": [
  {
   "cell_type": "code",
   "execution_count": 1,
   "metadata": {},
   "outputs": [],
   "source": [
    "def permutation(st):\n",
    "    \n",
    "    # Base case\n",
    "    if len(st) <= 1:\n",
    "        return st\n",
    "    "
   ]
  },
  {
   "cell_type": "code",
   "execution_count": 22,
   "metadata": {},
   "outputs": [],
   "source": [
    "def permute(st):\n",
    "    \n",
    "    # Add combination to this\n",
    "    out = []\n",
    "    \n",
    "    # Base case \n",
    "    if len(st) == 1:\n",
    "        out = [st]\n",
    "        \n",
    "    else:\n",
    "        # Iterate through letter and index of string\n",
    "        for i, let in enumerate(st):\n",
    "            \n",
    "            # For every permutation\n",
    "            for perm in permute(st[:i] + st[i+1:]):\n",
    "                \n",
    "                # Add it to output\n",
    "                out += [let + perm]\n",
    "                \n",
    "    return out\n",
    "            "
   ]
  },
  {
   "cell_type": "code",
   "execution_count": null,
   "metadata": {},
   "outputs": [],
   "source": [
    "\n"
   ]
  },
  {
   "cell_type": "code",
   "execution_count": null,
   "metadata": {},
   "outputs": [],
   "source": []
  },
  {
   "cell_type": "code",
   "execution_count": 23,
   "metadata": {},
   "outputs": [
    {
     "data": {
      "text/plain": [
       "['abce',\n",
       " 'abec',\n",
       " 'acbe',\n",
       " 'aceb',\n",
       " 'aebc',\n",
       " 'aecb',\n",
       " 'bace',\n",
       " 'baec',\n",
       " 'bcae',\n",
       " 'bcea',\n",
       " 'beac',\n",
       " 'beca',\n",
       " 'cabe',\n",
       " 'caeb',\n",
       " 'cbae',\n",
       " 'cbea',\n",
       " 'ceab',\n",
       " 'ceba',\n",
       " 'eabc',\n",
       " 'eacb',\n",
       " 'ebac',\n",
       " 'ebca',\n",
       " 'ecab',\n",
       " 'ecba']"
      ]
     },
     "execution_count": 23,
     "metadata": {},
     "output_type": "execute_result"
    }
   ],
   "source": [
    "permute(\"abce\")"
   ]
  },
  {
   "cell_type": "code",
   "execution_count": null,
   "metadata": {},
   "outputs": [],
   "source": []
  },
  {
   "cell_type": "code",
   "execution_count": null,
   "metadata": {},
   "outputs": [],
   "source": []
  }
 ],
 "metadata": {
  "kernelspec": {
   "display_name": "Python 3",
   "language": "python",
   "name": "python3"
  },
  "language_info": {
   "codemirror_mode": {
    "name": "ipython",
    "version": 3
   },
   "file_extension": ".py",
   "mimetype": "text/x-python",
   "name": "python",
   "nbconvert_exporter": "python",
   "pygments_lexer": "ipython3",
   "version": "3.7.1"
  }
 },
 "nbformat": 4,
 "nbformat_minor": 2
}
