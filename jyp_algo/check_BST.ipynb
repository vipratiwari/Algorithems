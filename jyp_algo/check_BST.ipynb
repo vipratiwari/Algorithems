{
 "cells": [
  {
   "cell_type": "code",
   "execution_count": 8,
   "metadata": {},
   "outputs": [
    {
     "name": "stdout",
     "output_type": "stream",
     "text": [
      "None\n"
     ]
    }
   ],
   "source": [
    "# class Node(object):\n",
    "    \n",
    "#     def __init__(self, key, val):\n",
    "#         self.key = key\n",
    "#         self.value = val\n",
    "#         self.left = None\n",
    "#         self.right = None\n",
    "        \n",
    "# def tree_max(node):\n",
    "#     if not node:\n",
    "#         return float(\"-inf\")\n",
    "#     maxLeft = tree_max(node.left)\n",
    "#     maxRight = tree_max(node.right)\n",
    "#     return max(node.key, maxLeft, maxRight)\n",
    "\n",
    "# def tree_min(node):\n",
    "#     if not node:\n",
    "#         return float(\"inf\")\n",
    "#     minLeft = tree_min(node.left)\n",
    "#     minRight = tree_min(node.right)\n",
    "#     return min(node.key, minLeft, minRight)\n",
    "\n",
    "# def verify(node):\n",
    "#     if not node:\n",
    "#         return True\n",
    "    \n",
    "#     if (tree_max(node.left) <= node.key <= tree_min(node.right) and \n",
    "#         verify(node.left) and verify(node.right)):\n",
    "#         True\n",
    "#     else:\n",
    "#         False\n",
    "    \n",
    "    \n",
    "# root = Node(12, \"Me\")\n",
    "# root.left = Node(10, \"you\")\n",
    "# root.right = Node(14, \"yours\")\n",
    "\n",
    "\n",
    "class Node:\n",
    "    def __init__(self, k, val):\n",
    "        self.key = k\n",
    "        self.value = val\n",
    "        self.left = None\n",
    "        self.right = None\n",
    "\n",
    "def tree_max(node):\n",
    "    if not node:\n",
    "        return float(\"-inf\")\n",
    "    maxleft  = tree_max(node.left)\n",
    "    maxright = tree_max(node.right)\n",
    "    return max(node.key, maxleft, maxright)\n",
    "\n",
    "def tree_min(node):\n",
    "    if not node:\n",
    "        return float(\"inf\")\n",
    "    minleft  = tree_min(node.left)\n",
    "    minright = tree_min(node.right)\n",
    "    return min(node.key, minleft, minright)\n",
    "\n",
    "def verify(node):\n",
    "    if not node:\n",
    "        return True\n",
    "    if (tree_max(node.left) <= node.key <= tree_min(node.right) and\n",
    "        verify(node.left) and verify(node.right)):\n",
    "        return True\n",
    "    else:\n",
    "        return False\n",
    "    \n",
    "root= Node(10, \"Hello\")\n",
    "root.left = Node(5, \"Five\")\n",
    "root.right= Node(30, \"Thirty\")\n",
    "\n",
    "print(verify(root))"
   ]
  },
  {
   "cell_type": "code",
   "execution_count": null,
   "metadata": {},
   "outputs": [],
   "source": []
  },
  {
   "cell_type": "code",
   "execution_count": null,
   "metadata": {},
   "outputs": [],
   "source": []
  }
 ],
 "metadata": {
  "kernelspec": {
   "display_name": "Python 3",
   "language": "python",
   "name": "python3"
  },
  "language_info": {
   "codemirror_mode": {
    "name": "ipython",
    "version": 3
   },
   "file_extension": ".py",
   "mimetype": "text/x-python",
   "name": "python",
   "nbconvert_exporter": "python",
   "pygments_lexer": "ipython3",
   "version": "3.7.1"
  }
 },
 "nbformat": 4,
 "nbformat_minor": 2
}
