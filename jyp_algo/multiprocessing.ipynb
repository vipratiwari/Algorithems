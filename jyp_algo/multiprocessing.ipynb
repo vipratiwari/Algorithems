{
 "cells": [
  {
   "cell_type": "code",
   "execution_count": 1,
   "metadata": {},
   "outputs": [
    {
     "name": "stdout",
     "output_type": "stream",
     "text": [
      " Registering Procecss 0 \n",
      " Registering Procecss 1 \n",
      " Registering Procecss 2 \n",
      " Registering Procecss 3 \n"
     ]
    }
   ],
   "source": [
    "from multiprocessing import Process\n",
    "import os\n",
    "import math\n",
    "\n",
    "def calc():\n",
    "    for i in range(1, 5000000):\n",
    "        math.sqrt(i)\n",
    "        \n",
    "processes = []\n",
    "\n",
    "for p in range(os.cpu_count()):\n",
    "    print(\" Registering Procecss %d \"%p)\n",
    "    processes.append(Process(target=calc))\n",
    "    \n",
    "for p in processes:\n",
    "    p.start()\n",
    "    \n",
    "for p in processes:\n",
    "    p.join()\n",
    "    "
   ]
  },
  {
   "cell_type": "code",
   "execution_count": null,
   "metadata": {},
   "outputs": [],
   "source": []
  }
 ],
 "metadata": {
  "kernelspec": {
   "display_name": "Python 3",
   "language": "python",
   "name": "python3"
  },
  "language_info": {
   "codemirror_mode": {
    "name": "ipython",
    "version": 3
   },
   "file_extension": ".py",
   "mimetype": "text/x-python",
   "name": "python",
   "nbconvert_exporter": "python",
   "pygments_lexer": "ipython3",
   "version": "3.7.1"
  }
 },
 "nbformat": 4,
 "nbformat_minor": 2
}
