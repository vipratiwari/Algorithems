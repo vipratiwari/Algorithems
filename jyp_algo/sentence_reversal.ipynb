{
 "cells": [
  {
   "cell_type": "code",
   "execution_count": 24,
   "metadata": {},
   "outputs": [],
   "source": [
    "def reverse_string(string):\n",
    "    string = string.strip()\n",
    "    words = string.split()\n",
    "    \n",
    "    reverse = []\n",
    "    \n",
    "    for word in words[::-1]:\n",
    "        reverse.append(word)\n",
    "        \n",
    "    return \" \".join(reverse)"
   ]
  },
  {
   "cell_type": "code",
   "execution_count": 25,
   "metadata": {},
   "outputs": [
    {
     "data": {
      "text/plain": [
       "'best the is This'"
      ]
     },
     "execution_count": 25,
     "metadata": {},
     "output_type": "execute_result"
    }
   ],
   "source": [
    "reverse_string('This is the best')"
   ]
  },
  {
   "cell_type": "code",
   "execution_count": 26,
   "metadata": {},
   "outputs": [
    {
     "data": {
      "text/plain": [
       "(['best'], 'best', ['best', 'the', 'is', 'This'])"
      ]
     },
     "execution_count": 26,
     "metadata": {},
     "output_type": "execute_result"
    }
   ],
   "source": [
    "words =  ['This', 'is', 'the', 'best']\n",
    "words[-1:], words[-1], words[::-1]"
   ]
  },
  {
   "cell_type": "code",
   "execution_count": 33,
   "metadata": {},
   "outputs": [],
   "source": [
    "def revese_words(string):\n",
    "    \"\"\"\n",
    "    Manually doing split of string \n",
    "    \"\"\"\n",
    "    \n",
    "    words = []\n",
    "    length = len(string)\n",
    "    spaces = \" \"\n",
    "    \n",
    "    for i in range(length):\n",
    "        if string[i] not in spaces:\n",
    "            word_start = i\n",
    "            while i<length and string[i] not in spaces:\n",
    "                i += 1\n",
    "            words.append(string[word_start:i])\n",
    "    print(\" words : \", words)"
   ]
  },
  {
   "cell_type": "code",
   "execution_count": 34,
   "metadata": {},
   "outputs": [
    {
     "name": "stdout",
     "output_type": "stream",
     "text": [
      " words :  ['This', 'his', 'is', 's', 'is', 's', 'the', 'he', 'e', 'best', 'est', 'st', 't']\n"
     ]
    }
   ],
   "source": [
    "revese_words(\"This is the best\")"
   ]
  },
  {
   "cell_type": "code",
   "execution_count": 37,
   "metadata": {},
   "outputs": [],
   "source": [
    "def rev_words(string): \n",
    "    \n",
    "    words = []\n",
    "    length = len(string)\n",
    "    spaces = \" \"\n",
    "    \n",
    "    # Index tracking\n",
    "    i = 0 \n",
    "    \n",
    "    # while index is less than the lenght of string \n",
    "    while i < length:\n",
    "        \n",
    "        # set if word at this index is not in space\n",
    "        if string[i] not in spaces:\n",
    "            word_start = i\n",
    "            \n",
    "            while i<length and string[i] not in spaces:\n",
    "            \n",
    "                # get index where the word ending\n",
    "                i += 1\n",
    "            \n",
    "            # append the word to the list\n",
    "            words.append(string[word_start:i])\n",
    "        \n",
    "        # add index\n",
    "        i +=1\n",
    "        \n",
    "    return \" \".join(reversed(words))\n",
    "            "
   ]
  },
  {
   "cell_type": "code",
   "execution_count": 38,
   "metadata": {},
   "outputs": [
    {
     "data": {
      "text/plain": [
       "'best the is This'"
      ]
     },
     "execution_count": 38,
     "metadata": {},
     "output_type": "execute_result"
    }
   ],
   "source": [
    "rev_words(\"This is the best\")"
   ]
  },
  {
   "cell_type": "code",
   "execution_count": null,
   "metadata": {},
   "outputs": [],
   "source": [
    "\"\"\"\n",
    "RUN THIS CELL TO TEST\n",
    "\"\"\"\n",
    "\n",
    "from nose.tools import assert_equalal\n",
    "\n",
    "class TestRev(object):\n",
    "    "
   ]
  }
 ],
 "metadata": {
  "kernelspec": {
   "display_name": "Python 3",
   "language": "python",
   "name": "python3"
  },
  "language_info": {
   "codemirror_mode": {
    "name": "ipython",
    "version": 3
   },
   "file_extension": ".py",
   "mimetype": "text/x-python",
   "name": "python",
   "nbconvert_exporter": "python",
   "pygments_lexer": "ipython3",
   "version": "3.7.1"
  }
 },
 "nbformat": 4,
 "nbformat_minor": 2
}
