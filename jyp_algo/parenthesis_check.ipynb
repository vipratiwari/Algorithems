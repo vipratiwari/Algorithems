{
 "cells": [
  {
   "cell_type": "code",
   "execution_count": 1,
   "metadata": {},
   "outputs": [
    {
     "data": {
      "text/plain": [
       "{'d', 'f', 's'}"
      ]
     },
     "execution_count": 1,
     "metadata": {},
     "output_type": "execute_result"
    }
   ],
   "source": [
    "set('sddfsdf')"
   ]
  },
  {
   "cell_type": "code",
   "execution_count": 7,
   "metadata": {},
   "outputs": [],
   "source": [
    "def check_balance(st):\n",
    "    \n",
    "    # CHeck is even numbers for brackets \n",
    "    if len(st)%2 != 0:\n",
    "        return False\n",
    "    \n",
    "    # Set of opening brackets\n",
    "    opening = set('{[(')\n",
    "    \n",
    "    # Matching pairs of brackets\n",
    "    matches = set([ ('{', '}'), ('[', ']'), ('(', ')') ])\n",
    "    \n",
    "    # Use a list as a stack\n",
    "    stack = []\n",
    "    \n",
    "    # Check every parenthesis in the string\n",
    "    for paren in st:\n",
    "        \n",
    "        # If it's an opening add to stack\n",
    "        if paren in opening:\n",
    "            stack.append(paren)\n",
    "            \n",
    "        else:\n",
    "            \n",
    "            # Check that there are parenthesis in stack\n",
    "            if len(stack) == 0:\n",
    "                return False\n",
    "            \n",
    "            # Check the last open parenthesis\n",
    "            last_open = stack.pop()\n",
    "            \n",
    "            # Match there is correct closing for last open\n",
    "            if (last_open, paren) not in matches:\n",
    "                return False\n",
    "            \n",
    "    return len(stack) == 0"
   ]
  },
  {
   "cell_type": "code",
   "execution_count": 8,
   "metadata": {},
   "outputs": [
    {
     "data": {
      "text/plain": [
       "False"
      ]
     },
     "execution_count": 8,
     "metadata": {},
     "output_type": "execute_result"
    }
   ],
   "source": [
    "check_balance('[](){([[[]]])}(')"
   ]
  },
  {
   "cell_type": "code",
   "execution_count": 9,
   "metadata": {},
   "outputs": [
    {
     "data": {
      "text/plain": [
       "True"
      ]
     },
     "execution_count": 9,
     "metadata": {},
     "output_type": "execute_result"
    }
   ],
   "source": [
    "check_balance('[{{{(())}}}]((()))')"
   ]
  },
  {
   "cell_type": "code",
   "execution_count": 10,
   "metadata": {},
   "outputs": [
    {
     "name": "stdout",
     "output_type": "stream",
     "text": [
      " ALL TESTS ARE PASSING !\n"
     ]
    }
   ],
   "source": [
    "\"\"\"\n",
    "RUN THIS CELL TO TEST FUNCTIONALITY\n",
    "\"\"\"\n",
    "\n",
    "from nose.tools import assert_equal\n",
    "\n",
    "class TestBalance(object):\n",
    "    \n",
    "    def test(self, sol):\n",
    "        assert_equal(sol('[](){([[[]]])}('),False)\n",
    "        assert_equal(sol('[{{{(())}}}]((()))'),True)\n",
    "        assert_equal(sol('[[[]])]'),False)\n",
    "        print(\" ALL TESTS ARE PASSING !\")\n",
    "        \n",
    "ts = TestBalance()\n",
    "ts.test(check_balance)\n",
    "        \n",
    "        "
   ]
  },
  {
   "cell_type": "code",
   "execution_count": null,
   "metadata": {},
   "outputs": [],
   "source": []
  }
 ],
 "metadata": {
  "kernelspec": {
   "display_name": "Python 3",
   "language": "python",
   "name": "python3"
  },
  "language_info": {
   "codemirror_mode": {
    "name": "ipython",
    "version": 3
   },
   "file_extension": ".py",
   "mimetype": "text/x-python",
   "name": "python",
   "nbconvert_exporter": "python",
   "pygments_lexer": "ipython3",
   "version": "3.7.1"
  }
 },
 "nbformat": 4,
 "nbformat_minor": 2
}
