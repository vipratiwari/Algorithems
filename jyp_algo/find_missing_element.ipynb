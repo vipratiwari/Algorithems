{
 "cells": [
  {
   "cell_type": "code",
   "execution_count": 15,
   "metadata": {},
   "outputs": [],
   "source": [
    "def find_missing_elemnt(arr1, arr2):\n",
    "    \n",
    "    # find missing element by using intersection\n",
    "    element = set(arr1).union(arr2)\n",
    "    return element"
   ]
  },
  {
   "cell_type": "code",
   "execution_count": 16,
   "metadata": {},
   "outputs": [
    {
     "data": {
      "text/plain": [
       "{1, 2, 3, 4, 5, 6, 7}"
      ]
     },
     "execution_count": 16,
     "metadata": {},
     "output_type": "execute_result"
    }
   ],
   "source": [
    "find_missing_elemnt([1,2,3,4,5,6,7], [6,2,5,1,4,3])"
   ]
  },
  {
   "cell_type": "code",
   "execution_count": 19,
   "metadata": {},
   "outputs": [
    {
     "data": {
      "text/plain": [
       "<zip at 0x10cdb9ec8>"
      ]
     },
     "execution_count": 19,
     "metadata": {},
     "output_type": "execute_result"
    }
   ],
   "source": [
    "z = zip([1,2,3,4,5,6,7], [6,2,5,1,4,3])\n",
    "z"
   ]
  },
  {
   "cell_type": "code",
   "execution_count": 23,
   "metadata": {},
   "outputs": [],
   "source": [
    "# couldn't understand\n",
    "\n",
    "def finder_trick(arr1, arr2):\n",
    "    result = 0\n",
    "    \n",
    "    for num in arr1+arr2:\n",
    "        result^=num\n",
    "        return result"
   ]
  },
  {
   "cell_type": "code",
   "execution_count": 24,
   "metadata": {},
   "outputs": [
    {
     "data": {
      "text/plain": [
       "1"
      ]
     },
     "execution_count": 24,
     "metadata": {},
     "output_type": "execute_result"
    }
   ],
   "source": [
    "finder_trick([1,2,3,4,5,6,7], [6,2,5,1,4,3])"
   ]
  },
  {
   "cell_type": "code",
   "execution_count": 25,
   "metadata": {},
   "outputs": [
    {
     "data": {
      "text/plain": [
       "[1, 2, 3, 4, 5, 6, 7, 6, 2, 5, 1, 4, 3]"
      ]
     },
     "execution_count": 25,
     "metadata": {},
     "output_type": "execute_result"
    }
   ],
   "source": [
    "[1,2,3,4,5,6,7]+ [6,2,5,1,4,3]"
   ]
  },
  {
   "cell_type": "code",
   "execution_count": 31,
   "metadata": {},
   "outputs": [],
   "source": [
    "import collections\n",
    "\n",
    "def finder(arr1, arr2):\n",
    "    \n",
    "    #take a dictionary to store array element count\n",
    "    d = collections.defaultdict(int)\n",
    "    \n",
    "    # store the elements of array in it\n",
    "    for num in arr2:\n",
    "        d[num] +=1\n",
    "        \n",
    "    # check if num not in dict\n",
    "    for num in arr1:\n",
    "        if d[num] == 0:\n",
    "            return num\n",
    "        \n",
    "        # Otherwise, subtract a count\n",
    "        else:\n",
    "            d[num]-=1\n",
    "    "
   ]
  },
  {
   "cell_type": "code",
   "execution_count": 32,
   "metadata": {},
   "outputs": [
    {
     "name": "stdout",
     "output_type": "stream",
     "text": [
      " d:  defaultdict(<class 'int'>, {6: 1, 2: 1, 5: 1, 1: 0, 4: 1, 3: 1})\n",
      " d:  defaultdict(<class 'int'>, {6: 1, 2: 0, 5: 1, 1: 0, 4: 1, 3: 1})\n",
      " d:  defaultdict(<class 'int'>, {6: 1, 2: 0, 5: 1, 1: 0, 4: 1, 3: 0})\n",
      " d:  defaultdict(<class 'int'>, {6: 1, 2: 0, 5: 1, 1: 0, 4: 0, 3: 0})\n",
      " d:  defaultdict(<class 'int'>, {6: 1, 2: 0, 5: 0, 1: 0, 4: 0, 3: 0})\n",
      " d:  defaultdict(<class 'int'>, {6: 0, 2: 0, 5: 0, 1: 0, 4: 0, 3: 0})\n"
     ]
    },
    {
     "data": {
      "text/plain": [
       "7"
      ]
     },
     "execution_count": 32,
     "metadata": {},
     "output_type": "execute_result"
    }
   ],
   "source": [
    "finder([1,2,3,4,5,6,7], [6,2,5,1,4,3])"
   ]
  },
  {
   "cell_type": "code",
   "execution_count": null,
   "metadata": {},
   "outputs": [],
   "source": [
    "\"\"\"\n",
    "Run this cell to test your solutions\n",
    "\"\"\"\n",
    "from nose.tools import assert_equal \n",
    "\n",
    "class TestFinder(object):\n",
    "    \n",
    "    def test(sol):\n",
    "        assert_equal(sol([5,5,7,7],[5,7,7]),5)\n",
    "        assert_equal(sol([1,2,3,4,5,6,7],[3,7,2,1,4,6]),5)\n",
    "        assert_equal(sol([9,8,7,6,5,4,3,2,1],[9,8,7,5,4,3,2,1]),6)\n",
    "        print(\" ALL TESTS ARE PASSING !\")\n",
    "        \n",
    "ts = TestFinder()\n",
    "ts.test(finder)\n"
   ]
  },
  {
   "cell_type": "code",
   "execution_count": null,
   "metadata": {},
   "outputs": [],
   "source": []
  },
  {
   "cell_type": "code",
   "execution_count": null,
   "metadata": {},
   "outputs": [],
   "source": []
  }
 ],
 "metadata": {
  "kernelspec": {
   "display_name": "Python 3",
   "language": "python",
   "name": "python3"
  },
  "language_info": {
   "codemirror_mode": {
    "name": "ipython",
    "version": 3
   },
   "file_extension": ".py",
   "mimetype": "text/x-python",
   "name": "python",
   "nbconvert_exporter": "python",
   "pygments_lexer": "ipython3",
   "version": "3.7.1"
  }
 },
 "nbformat": 4,
 "nbformat_minor": 2
}
