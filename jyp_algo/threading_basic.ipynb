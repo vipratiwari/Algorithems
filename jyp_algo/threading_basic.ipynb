{
 "cells": [
  {
   "cell_type": "code",
   "execution_count": 4,
   "metadata": {},
   "outputs": [
    {
     "name": "stdout",
     "output_type": "stream",
     "text": [
      " Hi I'm thread one\n",
      " Hi I'm thread two\n",
      " Hi I'm thread one\n",
      " Hi I'm thread two\n",
      " Hi I'm thread one\n",
      " Hi I'm thread two\n",
      " Hi I'm thread one\n",
      " Hi I'm thread two\n",
      " Hi I'm thread one\n",
      " Hi I'm thread two\n",
      " Hi I'm thread one\n",
      " Hi I'm thread two\n",
      " Hi I'm thread one\n",
      " Hi I'm thread two\n",
      " Hi I'm thread one\n",
      " Hi I'm thread two\n",
      " Hi I'm thread one\n",
      " Hi I'm thread two\n",
      " Hi I'm thread one\n",
      " Hi I'm thread two\n",
      " I'm Main Thread, Cya !\n"
     ]
    }
   ],
   "source": [
    "from threading import Thread\n",
    "from time import sleep\n",
    "\n",
    "class ThreadOne(Thread):\n",
    "    \n",
    "    def run(self):\n",
    "        for i in range(10):\n",
    "            print(\" Hi I'm thread one\")\n",
    "            sleep(1)\n",
    "        \n",
    "class ThreadTwo(Thread):\n",
    "    \n",
    "    def run(self):\n",
    "        for i in range(10):\n",
    "            print(\" Hi I'm thread two\")\n",
    "            sleep(1)\n",
    "        \n",
    "t1 = ThreadOne()\n",
    "\n",
    "t2 = ThreadTwo()\n",
    "\n",
    "t1.start()\n",
    "sleep(.5)\n",
    "t2.start()\n",
    "\n",
    "t1.join()\n",
    "t2.join()\n",
    "\n",
    "print(\" I'm Main Thread, Cya !\")"
   ]
  },
  {
   "cell_type": "code",
   "execution_count": null,
   "metadata": {},
   "outputs": [],
   "source": []
  }
 ],
 "metadata": {
  "kernelspec": {
   "display_name": "Python 3",
   "language": "python",
   "name": "python3"
  },
  "language_info": {
   "codemirror_mode": {
    "name": "ipython",
    "version": 3
   },
   "file_extension": ".py",
   "mimetype": "text/x-python",
   "name": "python",
   "nbconvert_exporter": "python",
   "pygments_lexer": "ipython3",
   "version": "3.7.1"
  }
 },
 "nbformat": 4,
 "nbformat_minor": 2
}
