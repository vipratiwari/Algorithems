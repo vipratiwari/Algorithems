{
 "cells": [
  {
   "cell_type": "code",
   "execution_count": 20,
   "metadata": {},
   "outputs": [
    {
     "name": "stdout",
     "output_type": "stream",
     "text": [
      "I'm in repeat first: hi\n"
     ]
    }
   ],
   "source": [
    "\n",
    "class Overload(object):\n",
    "    \"\"\"\n",
    "    This is the process of Polymorfism(more than 1 methods with same name)\n",
    "    which is not completely supported by python\n",
    "    \"\"\"    \n",
    "    def repeat(self, var):\n",
    "        print(f\"I'm in repeat first: {var}\")\n",
    "        \n",
    "    def repear(self, var1, var2):\n",
    "        print(f\"I'm in repeat next : {var1}, {var2}\")\n",
    "        \n",
    "cs = Overload()\n",
    "cs.repeat(\"hi\")"
   ]
  },
  {
   "cell_type": "code",
   "execution_count": 19,
   "metadata": {},
   "outputs": [
    {
     "name": "stdout",
     "output_type": "stream",
     "text": [
      " I'm in first override class\n"
     ]
    }
   ],
   "source": [
    "class OverrideFirst():\n",
    "    \n",
    "    def override(self):\n",
    "        print(\" I'm in first override class\")\n",
    "        \n",
    "class OverrideSecond(OverrideFirst):\n",
    "    \"\"\"\n",
    "    Comment this method to access same method from parent class\n",
    "    Because programm will not run the parent's class method \n",
    "    if same method is written for child class this is method overriding\n",
    "    \"\"\"\n",
    "#     def override(self):\n",
    "#         print(\"I'm in second override class \")\n",
    "        \n",
    "cs1 = OverrideFirst()\n",
    "cs2 = OverrideSecond()\n",
    "cs2.override()\n",
    "        "
   ]
  },
  {
   "cell_type": "code",
   "execution_count": null,
   "metadata": {},
   "outputs": [],
   "source": []
  },
  {
   "cell_type": "code",
   "execution_count": null,
   "metadata": {},
   "outputs": [],
   "source": []
  }
 ],
 "metadata": {
  "kernelspec": {
   "display_name": "Python 3",
   "language": "python",
   "name": "python3"
  },
  "language_info": {
   "codemirror_mode": {
    "name": "ipython",
    "version": 3
   },
   "file_extension": ".py",
   "mimetype": "text/x-python",
   "name": "python",
   "nbconvert_exporter": "python",
   "pygments_lexer": "ipython3",
   "version": "3.7.1"
  }
 },
 "nbformat": 4,
 "nbformat_minor": 2
}
