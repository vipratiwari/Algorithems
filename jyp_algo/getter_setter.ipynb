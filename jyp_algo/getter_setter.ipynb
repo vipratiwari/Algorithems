{
 "cells": [
  {
   "cell_type": "code",
   "execution_count": 5,
   "metadata": {},
   "outputs": [
    {
     "name": "stdout",
     "output_type": "stream",
     "text": [
      "abc.xyz@email.com\n",
      "new\n",
      "xyz\n"
     ]
    }
   ],
   "source": [
    "class Emp(object):\n",
    "    \n",
    "    def __init__(self, first, last):\n",
    "        self.first = first\n",
    "        self.last = last\n",
    "        self.email = first + \".\" + last + \"@email.com\"\n",
    "        \n",
    "    def fullname(self):\n",
    "        return '{} {}'. format(first, last)\n",
    "    \n",
    "emp1 = Emp('abc','xyz')\n",
    "emp1.first = 'new'\n",
    "\n",
    "print(emp1.email)\n",
    "print(emp1.first)\n",
    "print(emp1.last)\n"
   ]
  },
  {
   "cell_type": "code",
   "execution_count": 8,
   "metadata": {},
   "outputs": [
    {
     "name": "stdout",
     "output_type": "stream",
     "text": [
      "new.xyz@email.com\n",
      "new\n",
      "xyz\n"
     ]
    }
   ],
   "source": [
    "class Emp(object):\n",
    "    \n",
    "    def __init__(self, first, last):\n",
    "        self.first = first\n",
    "        self.last = last\n",
    "#         self.email = first + \".\" + last + \"@email.com\"\n",
    "\n",
    "    @property\n",
    "    def email(self):\n",
    "        return '{}.{}@email.com'.format(self.first,self.last)\n",
    "        \n",
    "    def fullname(self):\n",
    "        return '{} {}'. format(first, last)\n",
    "    \n",
    "emp1 = Emp('abc','xyz')\n",
    "emp1.first = 'new'\n",
    "\n",
    "print(emp1.email)\n",
    "print(emp1.first)\n",
    "print(emp1.last)"
   ]
  },
  {
   "cell_type": "code",
   "execution_count": null,
   "metadata": {},
   "outputs": [],
   "source": []
  }
 ],
 "metadata": {
  "kernelspec": {
   "display_name": "Python 3",
   "language": "python",
   "name": "python3"
  },
  "language_info": {
   "codemirror_mode": {
    "name": "ipython",
    "version": 3
   },
   "file_extension": ".py",
   "mimetype": "text/x-python",
   "name": "python",
   "nbconvert_exporter": "python",
   "pygments_lexer": "ipython3",
   "version": "3.7.1"
  }
 },
 "nbformat": 4,
 "nbformat_minor": 2
}
