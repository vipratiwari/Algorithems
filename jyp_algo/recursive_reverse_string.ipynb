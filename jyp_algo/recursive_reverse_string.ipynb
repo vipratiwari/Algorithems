{
 "cells": [
  {
   "cell_type": "code",
   "execution_count": 9,
   "metadata": {},
   "outputs": [],
   "source": [
    "def Practice_reverse(st, rev_st = None):\n",
    "    if len(st)<2 and rev_st == None:\n",
    "        return st\n",
    "    else:\n",
    "        rev_st = st[len(st)-1] if rev_st == None else rev_st+st[len(st)-1]\n",
    "        print(\" rev_st : \", rev_st)\n",
    "        return reverse(st[:len(st)-len(rev_st)], rev_st)"
   ]
  },
  {
   "cell_type": "code",
   "execution_count": 17,
   "metadata": {},
   "outputs": [],
   "source": [
    "def reverse(st):\n",
    "    \n",
    "    # Base case\n",
    "    if len(st) <= 1:\n",
    "        return st\n",
    "    \n",
    "    # Recursion\n",
    "    else:\n",
    "        return reverse(st[1:]) + st[0]"
   ]
  },
  {
   "cell_type": "code",
   "execution_count": 18,
   "metadata": {},
   "outputs": [
    {
     "data": {
      "text/plain": [
       "'edcba'"
      ]
     },
     "execution_count": 18,
     "metadata": {},
     "output_type": "execute_result"
    }
   ],
   "source": [
    "reverse(\"abcde\")"
   ]
  },
  {
   "cell_type": "code",
   "execution_count": 19,
   "metadata": {},
   "outputs": [
    {
     "name": "stdout",
     "output_type": "stream",
     "text": [
      " ALL TESTS PASSING !\n"
     ]
    }
   ],
   "source": [
    "from nose.tools import assert_equal\n",
    "\n",
    "class TestRecursionReverse(object):\n",
    "    \n",
    "    def test(self, solution):\n",
    "        assert_equal(solution('hello'),'olleh')\n",
    "        assert_equal(solution('hello world'),'dlrow olleh')\n",
    "        assert_equal(solution('123456789'),'987654321')\n",
    "        print(\" ALL TESTS PASSING !\")\n",
    "        \n",
    "ts = TestRecursionReverse()\n",
    "ts.test(reverse)"
   ]
  },
  {
   "cell_type": "code",
   "execution_count": null,
   "metadata": {},
   "outputs": [],
   "source": []
  }
 ],
 "metadata": {
  "kernelspec": {
   "display_name": "Python 3",
   "language": "python",
   "name": "python3"
  },
  "language_info": {
   "codemirror_mode": {
    "name": "ipython",
    "version": 3
   },
   "file_extension": ".py",
   "mimetype": "text/x-python",
   "name": "python",
   "nbconvert_exporter": "python",
   "pygments_lexer": "ipython3",
   "version": "3.7.1"
  }
 },
 "nbformat": 4,
 "nbformat_minor": 2
}
