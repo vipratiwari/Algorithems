{
 "cells": [
  {
   "cell_type": "code",
   "execution_count": 15,
   "metadata": {},
   "outputs": [],
   "source": [
    "def sequential_search(arr, element):\n",
    "    \n",
    "    pointer = 0\n",
    "    \n",
    "    while pointer < len(arr):\n",
    "        if arr[pointer] == element:\n",
    "            return element \n",
    "        pointer += 1\n",
    "    return \"Not Found :(\""
   ]
  },
  {
   "cell_type": "code",
   "execution_count": 17,
   "metadata": {},
   "outputs": [
    {
     "name": "stdout",
     "output_type": "stream",
     "text": [
      "array element :  4\n",
      "array element :  5\n",
      "array element :  3\n",
      "array element :  32\n",
      "array element :  5\n",
      "array element :  64\n"
     ]
    },
    {
     "data": {
      "text/plain": [
       "64"
      ]
     },
     "execution_count": 17,
     "metadata": {},
     "output_type": "execute_result"
    }
   ],
   "source": [
    "arr = [4,5,3,32,5,64,6]\n",
    "sequential_search(arr, 64)"
   ]
  },
  {
   "cell_type": "code",
   "execution_count": 24,
   "metadata": {},
   "outputs": [],
   "source": [
    "def order_sequential_search(arr, element):\n",
    "    \n",
    "    pointer = 0\n",
    "    found = False\n",
    "    stopped = False\n",
    "    \n",
    "    while pointer < len(arr) and not found and not stopped:\n",
    "        if arr[pointer] == element:\n",
    "            return element\n",
    "        else: \n",
    "            if arr[pointer] > element:\n",
    "                stopped = True\n",
    "            else:\n",
    "                pointer += 1\n",
    "    return \"Not Found :(\""
   ]
  },
  {
   "cell_type": "code",
   "execution_count": 26,
   "metadata": {},
   "outputs": [
    {
     "data": {
      "text/plain": [
       "23"
      ]
     },
     "execution_count": 26,
     "metadata": {},
     "output_type": "execute_result"
    }
   ],
   "source": [
    "arr = [4,5, 10,13, 17, 23, 41, 52, 89]\n",
    "order_sequential_search(arr, 23)"
   ]
  },
  {
   "cell_type": "code",
   "execution_count": null,
   "metadata": {},
   "outputs": [],
   "source": []
  }
 ],
 "metadata": {
  "kernelspec": {
   "display_name": "Python 3",
   "language": "python",
   "name": "python3"
  },
  "language_info": {
   "codemirror_mode": {
    "name": "ipython",
    "version": 3
   },
   "file_extension": ".py",
   "mimetype": "text/x-python",
   "name": "python",
   "nbconvert_exporter": "python",
   "pygments_lexer": "ipython3",
   "version": "3.7.1"
  }
 },
 "nbformat": 4,
 "nbformat_minor": 2
}
