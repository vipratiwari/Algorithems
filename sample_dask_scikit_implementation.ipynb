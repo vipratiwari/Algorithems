{
  "nbformat": 4,
  "nbformat_minor": 0,
  "metadata": {
    "colab": {
      "provenance": [],
      "authorship_tag": "ABX9TyNXfa22nd/6o8y5SADMZk8k",
      "include_colab_link": true
    },
    "kernelspec": {
      "name": "python3",
      "display_name": "Python 3"
    },
    "language_info": {
      "name": "python"
    }
  },
  "cells": [
    {
      "cell_type": "markdown",
      "metadata": {
        "id": "view-in-github",
        "colab_type": "text"
      },
      "source": [
        "<a href=\"https://colab.research.google.com/github/vipratiwari/Algorithems/blob/master/sample_dask_scikit_implementation.ipynb\" target=\"_parent\"><img src=\"https://colab.research.google.com/assets/colab-badge.svg\" alt=\"Open In Colab\"/></a>"
      ]
    },
    {
      "cell_type": "code",
      "execution_count": 9,
      "metadata": {
        "id": "JOJCYTx9WzLq"
      },
      "outputs": [],
      "source": [
        "# !pip install dask scikit-learn\n",
        "# !pip install dask_ml"
      ]
    },
    {
      "cell_type": "markdown",
      "source": [
        "Load the dataset"
      ],
      "metadata": {
        "id": "vrJQ9UnhW5gh"
      }
    },
    {
      "cell_type": "code",
      "source": [
        "from sklearn.datasets import load_digits\n",
        "digits = load_digits()\n",
        "X, y = digits.data, digits.target"
      ],
      "metadata": {
        "id": "5F98TNmcW1Yj"
      },
      "execution_count": 2,
      "outputs": []
    },
    {
      "cell_type": "markdown",
      "source": [
        "Split the dataset into training and test sets"
      ],
      "metadata": {
        "id": "dfY3J70HXDHt"
      }
    },
    {
      "cell_type": "code",
      "source": [
        "from sklearn.model_selection import train_test_split\n",
        "X_train, X_test, y_train, y_test = train_test_split(X, y, test_size=0.2, random_state=42)"
      ],
      "metadata": {
        "id": "Iwx3NIfLW1bn"
      },
      "execution_count": 4,
      "outputs": []
    },
    {
      "cell_type": "markdown",
      "source": [
        "Create a Dask client to enable parallel processing"
      ],
      "metadata": {
        "id": "LO6j0chXXWuv"
      }
    },
    {
      "cell_type": "code",
      "source": [
        "from dask.distributed import Client\n",
        "client = Client()"
      ],
      "metadata": {
        "colab": {
          "base_uri": "https://localhost:8080/"
        },
        "id": "SeidViR-W1fi",
        "outputId": "5b1322c8-2aa0-4e5c-d46f-5250433ebd59"
      },
      "execution_count": 5,
      "outputs": [
        {
          "output_type": "stream",
          "name": "stderr",
          "text": [
            "INFO:distributed.http.proxy:To route to workers diagnostics web server please install jupyter-server-proxy: python -m pip install jupyter-server-proxy\n",
            "INFO:distributed.scheduler:State start\n",
            "INFO:distributed.scheduler:  Scheduler at:     tcp://127.0.0.1:38265\n",
            "INFO:distributed.scheduler:  dashboard at:            127.0.0.1:8787\n",
            "INFO:distributed.nanny:        Start Nanny at: 'tcp://127.0.0.1:38113'\n",
            "INFO:distributed.nanny:        Start Nanny at: 'tcp://127.0.0.1:34705'\n",
            "INFO:distributed.scheduler:Register worker <WorkerState 'tcp://127.0.0.1:45885', name: 0, status: init, memory: 0, processing: 0>\n",
            "INFO:distributed.scheduler:Starting worker compute stream, tcp://127.0.0.1:45885\n",
            "INFO:distributed.core:Starting established connection to tcp://127.0.0.1:47684\n",
            "INFO:distributed.scheduler:Register worker <WorkerState 'tcp://127.0.0.1:36873', name: 1, status: init, memory: 0, processing: 0>\n",
            "INFO:distributed.scheduler:Starting worker compute stream, tcp://127.0.0.1:36873\n",
            "INFO:distributed.core:Starting established connection to tcp://127.0.0.1:47680\n",
            "INFO:distributed.scheduler:Receive client connection: Client-8101afbc-cc80-11ed-8322-0242ac1c000c\n",
            "INFO:distributed.core:Starting established connection to tcp://127.0.0.1:47690\n"
          ]
        }
      ]
    },
    {
      "cell_type": "markdown",
      "source": [
        "Parallelize the data with Dask"
      ],
      "metadata": {
        "id": "FzQ4PUCyXh2u"
      }
    },
    {
      "cell_type": "code",
      "source": [
        "import dask.array as da\n",
        "X_train_dask = da.from_array(X_train, chunks=100)\n",
        "y_train_dask = da.from_array(y_train, chunks=100)"
      ],
      "metadata": {
        "id": "aHJKeCLSW1ir"
      },
      "execution_count": 6,
      "outputs": []
    },
    {
      "cell_type": "markdown",
      "source": [
        "Define a pipeline using Scikit-Learn's Pipeline class"
      ],
      "metadata": {
        "id": "-FDUgPYWX1e9"
      }
    },
    {
      "cell_type": "code",
      "source": [
        "from sklearn.pipeline import Pipeline\n",
        "from sklearn.preprocessing import StandardScaler\n",
        "from sklearn.linear_model import LogisticRegression\n",
        "\n",
        "pipeline = Pipeline(steps=[\n",
        "    ('preprocessing', StandardScaler()),\n",
        "    ('classifier', LogisticRegression())\n",
        "])"
      ],
      "metadata": {
        "id": "YuABxzrhW1lP"
      },
      "execution_count": 7,
      "outputs": []
    },
    {
      "cell_type": "markdown",
      "source": [
        "Train the model using Dask for parallel processing"
      ],
      "metadata": {
        "id": "b9GclhtDYAgD"
      }
    },
    {
      "cell_type": "code",
      "source": [
        "# from dask_ml.model_selection import IncrementalSearchCV\n",
        "\n",
        "# search = IncrementalSearchCV(\n",
        "#     pipeline,\n",
        "#     param_distributions={\n",
        "#         'classifier__C': [0.01, 0.1, 1.0],\n",
        "#         'classifier__penalty': ['l1', 'l2']\n",
        "#     },\n",
        "#     scoring='accuracy',\n",
        "#     n_jobs=-1,\n",
        "#     cv=3,\n",
        "#     random_state=42\n",
        "# )\n",
        "\n",
        "# search.fit(X_train_dask, y_train_dask)"
      ],
      "metadata": {
        "id": "UWnBZFkoW1no"
      },
      "execution_count": 12,
      "outputs": []
    },
    {
      "cell_type": "markdown",
      "source": [
        "Evaluate the model on the test set\n"
      ],
      "metadata": {
        "id": "_lkaYbwbYjjE"
      }
    },
    {
      "cell_type": "code",
      "source": [
        "# from sklearn.metrics import accuracy_score\n",
        "\n",
        "# y_pred = search.predict(X_test)\n",
        "# accuracy = accuracy_score(y_test, y_pred)\n",
        "# print(f'Test accuracy: {accuracy:.2f}')"
      ],
      "metadata": {
        "id": "x-lKSrk4YlBA"
      },
      "execution_count": 13,
      "outputs": []
    },
    {
      "cell_type": "code",
      "source": [],
      "metadata": {
        "id": "P9qLo5jyW1qP"
      },
      "execution_count": null,
      "outputs": []
    }
  ]
}